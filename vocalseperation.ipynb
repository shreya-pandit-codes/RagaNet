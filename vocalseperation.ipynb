{
 "cells": [
  {
   "cell_type": "code",
   "execution_count": 1,
   "metadata": {},
   "outputs": [
    {
     "ename": "ModuleNotFoundError",
     "evalue": "No module named 'pitchy'",
     "output_type": "error",
     "traceback": [
      "\u001b[1;31m---------------------------------------------------------------------------\u001b[0m",
      "\u001b[1;31mModuleNotFoundError\u001b[0m                       Traceback (most recent call last)",
      "\u001b[1;32m~\\AppData\\Local\\Temp\\ipykernel_19272\\1912809294.py\u001b[0m in \u001b[0;36m<module>\u001b[1;34m\u001b[0m\n\u001b[1;32m----> 1\u001b[1;33m \u001b[1;32mimport\u001b[0m \u001b[0mpitchy\u001b[0m\u001b[1;33m\u001b[0m\u001b[1;33m\u001b[0m\u001b[0m\n\u001b[0m\u001b[0;32m      2\u001b[0m \u001b[1;32mimport\u001b[0m \u001b[0mnumpy\u001b[0m \u001b[1;32mas\u001b[0m \u001b[0mnp\u001b[0m\u001b[1;33m\u001b[0m\u001b[1;33m\u001b[0m\u001b[0m\n\u001b[0;32m      3\u001b[0m \u001b[1;32mimport\u001b[0m \u001b[0mlibrosa\u001b[0m\u001b[1;33m\u001b[0m\u001b[1;33m\u001b[0m\u001b[0m\n\u001b[0;32m      4\u001b[0m \u001b[1;33m\u001b[0m\u001b[0m\n\u001b[0;32m      5\u001b[0m \u001b[1;31m# Load the audio\u001b[0m\u001b[1;33m\u001b[0m\u001b[1;33m\u001b[0m\u001b[0m\n",
      "\u001b[1;31mModuleNotFoundError\u001b[0m: No module named 'pitchy'"
     ]
    }
   ],
   "source": [
    "import pitchy\n",
    "import numpy as np\n",
    "import librosa\n",
    "\n",
    "# Load the audio\n",
    "y, sr = librosa.load('audio_file.mp3')\n",
    "\n",
    "# Extract pitch using Pitchy\n",
    "pitch_detector = pitchy.Yin(sr)\n",
    "pitches, magnitudes = pitch_detector.detect(y)\n",
    "\n",
    "# Convert pitch to musical notes\n",
    "notes = librosa.hz_to_note(pitches)\n",
    "\n",
    "print(notes)\n"
   ]
  },
  {
   "cell_type": "code",
   "execution_count": 4,
   "metadata": {},
   "outputs": [
    {
     "name": "stdout",
     "output_type": "stream",
     "text": [
      "Collecting aubio\n",
      "  Downloading aubio-0.4.9.tar.gz (479 kB)\n",
      "     -------------------------------------- 479.0/479.0 kB 7.6 MB/s eta 0:00:00\n",
      "  Preparing metadata (setup.py): started\n",
      "  Preparing metadata (setup.py): finished with status 'done'\n",
      "Requirement already satisfied: numpy in d:\\anaconda_23_10\\lib\\site-packages (from aubio) (1.21.6)\n",
      "Building wheels for collected packages: aubio\n",
      "  Building wheel for aubio (setup.py): started\n",
      "  Building wheel for aubio (setup.py): finished with status 'error'\n",
      "  Running setup.py clean for aubio\n",
      "Failed to build aubio\n",
      "Installing collected packages: aubio\n",
      "  Running setup.py install for aubio: started\n",
      "  Running setup.py install for aubio: finished with status 'error'\n",
      "Note: you may need to restart the kernel to use updated packages.\n"
     ]
    },
    {
     "name": "stderr",
     "output_type": "stream",
     "text": [
      "  error: subprocess-exited-with-error\n",
      "  \n",
      "  × python setup.py bdist_wheel did not run successfully.\n",
      "  │ exit code: 1\n",
      "  ╰─> [32 lines of output]\n",
      "      running bdist_wheel\n",
      "      running build\n",
      "      running build_py\n",
      "      creating build\n",
      "      creating build\\lib.win-amd64-cpython-39\n",
      "      creating build\\lib.win-amd64-cpython-39\\aubio\n",
      "      copying python\\lib\\aubio\\cmd.py -> build\\lib.win-amd64-cpython-39\\aubio\n",
      "      copying python\\lib\\aubio\\cut.py -> build\\lib.win-amd64-cpython-39\\aubio\n",
      "      copying python\\lib\\aubio\\midiconv.py -> build\\lib.win-amd64-cpython-39\\aubio\n",
      "      copying python\\lib\\aubio\\slicing.py -> build\\lib.win-amd64-cpython-39\\aubio\n",
      "      copying python\\lib\\aubio\\__init__.py -> build\\lib.win-amd64-cpython-39\\aubio\n",
      "      running build_ext\n",
      "      checking for aubio = 0.4.9\n",
      "      Running \"pkg-config --libs --cflags aubio = 0.4.9\" failed: FileNotFoundError(2, 'The system cannot find the file specified', None, 2, None)\n",
      "      Info: aubio 0.4.9 was not found by pkg-config\n",
      "      Info: looking for *optional* additional packages\n",
      "      checking for libavcodec\n",
      "      Running \"pkg-config --libs --cflags libavcodec\" failed: FileNotFoundError(2, 'The system cannot find the file specified', None, 2, None)\n",
      "      checking for libavformat\n",
      "      Running \"pkg-config --libs --cflags libavformat\" failed: FileNotFoundError(2, 'The system cannot find the file specified', None, 2, None)\n",
      "      checking for libavutil\n",
      "      Running \"pkg-config --libs --cflags libavutil\" failed: FileNotFoundError(2, 'The system cannot find the file specified', None, 2, None)\n",
      "      checking for libswresample\n",
      "      Running \"pkg-config --libs --cflags libswresample\" failed: FileNotFoundError(2, 'The system cannot find the file specified', None, 2, None)\n",
      "      checking for libavresample\n",
      "      Running \"pkg-config --libs --cflags libavresample\" failed: FileNotFoundError(2, 'The system cannot find the file specified', None, 2, None)\n",
      "      checking for sndfile\n",
      "      Running \"pkg-config --libs --cflags sndfile\" failed: FileNotFoundError(2, 'The system cannot find the file specified', None, 2, None)\n",
      "      checking for samplerate\n",
      "      Running \"pkg-config --libs --cflags samplerate\" failed: FileNotFoundError(2, 'The system cannot find the file specified', None, 2, None)\n",
      "      Info: libaubio was not installed or built locally with waf, adding src/\n",
      "      error: Microsoft Visual C++ 14.0 or greater is required. Get it with \"Microsoft C++ Build Tools\": https://visualstudio.microsoft.com/visual-cpp-build-tools/\n",
      "      [end of output]\n",
      "  \n",
      "  note: This error originates from a subprocess, and is likely not a problem with pip.\n",
      "  ERROR: Failed building wheel for aubio\n",
      "  error: subprocess-exited-with-error\n",
      "  \n",
      "  × Running setup.py install for aubio did not run successfully.\n",
      "  │ exit code: 1\n",
      "  ╰─> [26 lines of output]\n",
      "      running install\n",
      "      d:\\Anaconda_23_10\\lib\\site-packages\\setuptools\\command\\install.py:34: SetuptoolsDeprecationWarning: setup.py install is deprecated. Use build and pip and other standards-based tools.\n",
      "        warnings.warn(\n",
      "      running build\n",
      "      running build_py\n",
      "      running build_ext\n",
      "      checking for aubio = 0.4.9\n",
      "      Running \"pkg-config --libs --cflags aubio = 0.4.9\" failed: FileNotFoundError(2, 'The system cannot find the file specified', None, 2, None)\n",
      "      Info: aubio 0.4.9 was not found by pkg-config\n",
      "      Info: looking for *optional* additional packages\n",
      "      checking for libavcodec\n",
      "      Running \"pkg-config --libs --cflags libavcodec\" failed: FileNotFoundError(2, 'The system cannot find the file specified', None, 2, None)\n",
      "      checking for libavformat\n",
      "      Running \"pkg-config --libs --cflags libavformat\" failed: FileNotFoundError(2, 'The system cannot find the file specified', None, 2, None)\n",
      "      checking for libavutil\n",
      "      Running \"pkg-config --libs --cflags libavutil\" failed: FileNotFoundError(2, 'The system cannot find the file specified', None, 2, None)\n",
      "      checking for libswresample\n",
      "      Running \"pkg-config --libs --cflags libswresample\" failed: FileNotFoundError(2, 'The system cannot find the file specified', None, 2, None)\n",
      "      checking for libavresample\n",
      "      Running \"pkg-config --libs --cflags libavresample\" failed: FileNotFoundError(2, 'The system cannot find the file specified', None, 2, None)\n",
      "      checking for sndfile\n",
      "      Running \"pkg-config --libs --cflags sndfile\" failed: FileNotFoundError(2, 'The system cannot find the file specified', None, 2, None)\n",
      "      checking for samplerate\n",
      "      Running \"pkg-config --libs --cflags samplerate\" failed: FileNotFoundError(2, 'The system cannot find the file specified', None, 2, None)\n",
      "      Info: libaubio was not installed or built locally with waf, adding src/\n",
      "      error: Microsoft Visual C++ 14.0 or greater is required. Get it with \"Microsoft C++ Build Tools\": https://visualstudio.microsoft.com/visual-cpp-build-tools/\n",
      "      [end of output]\n",
      "  \n",
      "  note: This error originates from a subprocess, and is likely not a problem with pip.\n",
      "error: legacy-install-failure\n",
      "\n",
      "× Encountered error while trying to install package.\n",
      "╰─> aubio\n",
      "\n",
      "note: This is an issue with the package mentioned above, not pip.\n",
      "hint: See above for output from the failure.\n"
     ]
    }
   ],
   "source": [
    "pip install aubio"
   ]
  },
  {
   "cell_type": "code",
   "execution_count": 8,
   "metadata": {},
   "outputs": [
    {
     "ename": "ModuleNotFoundError",
     "evalue": "No module named 'aubio'",
     "output_type": "error",
     "traceback": [
      "\u001b[1;31m---------------------------------------------------------------------------\u001b[0m",
      "\u001b[1;31mModuleNotFoundError\u001b[0m                       Traceback (most recent call last)",
      "\u001b[1;32m~\\AppData\\Local\\Temp\\ipykernel_19272\\2887952008.py\u001b[0m in \u001b[0;36m<module>\u001b[1;34m\u001b[0m\n\u001b[1;32m----> 1\u001b[1;33m \u001b[1;32mimport\u001b[0m \u001b[0maubio\u001b[0m\u001b[1;33m\u001b[0m\u001b[1;33m\u001b[0m\u001b[0m\n\u001b[0m\u001b[0;32m      2\u001b[0m \u001b[1;32mimport\u001b[0m \u001b[0mnumpy\u001b[0m \u001b[1;32mas\u001b[0m \u001b[0mnp\u001b[0m\u001b[1;33m\u001b[0m\u001b[1;33m\u001b[0m\u001b[0m\n\u001b[0;32m      3\u001b[0m \u001b[1;33m\u001b[0m\u001b[0m\n\u001b[0;32m      4\u001b[0m \u001b[1;31m# Load the audio file\u001b[0m\u001b[1;33m\u001b[0m\u001b[1;33m\u001b[0m\u001b[0m\n\u001b[0;32m      5\u001b[0m \u001b[0maudio_file\u001b[0m \u001b[1;33m=\u001b[0m \u001b[1;34mr'carnatic_varnam_1.1\\Audio\\223578__gopalkoduri__carnatic-varnam-by-dharini-in-abhogi-raaga.mp3'\u001b[0m\u001b[1;33m\u001b[0m\u001b[1;33m\u001b[0m\u001b[0m\n",
      "\u001b[1;31mModuleNotFoundError\u001b[0m: No module named 'aubio'"
     ]
    }
   ],
   "source": [
    "import aubio\n",
    "import numpy as np\n",
    "\n",
    "# Load the audio file\n",
    "audio_file = r'carnatic_varnam_1.1\\Audio\\223578__gopalkoduri__carnatic-varnam-by-dharini-in-abhogi-raaga.mp3'\n",
    "\n",
    "# Initialize pitch detection method (Yin algorithm)\n",
    "pitch_detector = aubio.pitch(\"yin\", 1024, 512, 44100)\n",
    "\n",
    "# Open the audio file for processing\n",
    "s = aubio.source(audio_file, 0, 512)\n",
    "samples, remainder = s()\n",
    "pitches = []\n",
    "\n",
    "while True:\n",
    "    samples, remainder = s()\n",
    "    pitch = pitch_detector(samples)\n",
    "    pitches.append(pitch)\n",
    "    if remainder == 0:\n",
    "        break\n",
    "\n",
    "# Print detected pitch values\n",
    "print(pitches)\n"
   ]
  }
 ],
 "metadata": {
  "kernelspec": {
   "display_name": "base",
   "language": "python",
   "name": "python3"
  },
  "language_info": {
   "codemirror_mode": {
    "name": "ipython",
    "version": 3
   },
   "file_extension": ".py",
   "mimetype": "text/x-python",
   "name": "python",
   "nbconvert_exporter": "python",
   "pygments_lexer": "ipython3",
   "version": "3.9.13"
  }
 },
 "nbformat": 4,
 "nbformat_minor": 2
}
